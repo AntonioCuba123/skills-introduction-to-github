{
  "nbformat": 4,
  "nbformat_minor": 0,
  "metadata": {
    "colab": {
      "private_outputs": true,
      "provenance": [],
      "toc_visible": true,
      "authorship_tag": "ABX9TyOXFVVKof9NPPzN3TeLVm6L",
      "include_colab_link": true
    },
    "kernelspec": {
      "name": "python3",
      "display_name": "Python 3"
    },
    "language_info": {
      "name": "python"
    }
  },
  "cells": [
    {
      "cell_type": "markdown",
      "metadata": {
        "id": "view-in-github",
        "colab_type": "text"
      },
      "source": [
        "<a href=\"https://colab.research.google.com/github/AntonioCuba123/skills-introduction-to-github/blob/main/Red_Neuronal_en_Python.ipynb\" target=\"_parent\"><img src=\"https://colab.research.google.com/assets/colab-badge.svg\" alt=\"Open In Colab\"/></a>"
      ]
    },
    {
      "cell_type": "code",
      "execution_count": null,
      "metadata": {
        "id": "45bx5ByIGIG_"
      },
      "outputs": [],
      "source": []
    },
    {
      "cell_type": "markdown",
      "source": [
        "#Importación de Bibliotecas clave"
      ],
      "metadata": {
        "id": "-LEOTaY86dlX"
      }
    },
    {
      "cell_type": "markdown",
      "source": [
        "Qúe librerías se necesita?"
      ],
      "metadata": {
        "id": "qjuyBOso6dDq"
      }
    },
    {
      "cell_type": "code",
      "source": [
        "import tensorflow as tf\n",
        "from tensorflow import keras\n",
        "from tensorflow.keras import layers\n",
        "from tensorflow.keras.datasets import mnist\n",
        "import numpy as np\n",
        "import matplotlib.pyplot as plt"
      ],
      "metadata": {
        "id": "C_7SVhsv6lng"
      },
      "execution_count": null,
      "outputs": []
    },
    {
      "cell_type": "markdown",
      "source": [
        "#Cómo se crean las redes neuronales"
      ],
      "metadata": {
        "id": "Wq29Tr_dLaEC"
      }
    },
    {
      "cell_type": "markdown",
      "source": [
        "### Método (RN) secuencial."
      ],
      "metadata": {
        "id": "RWSXqbpj6-RQ"
      }
    },
    {
      "cell_type": "markdown",
      "source": [
        "Dado que nuestro modelo tiene 3 capas ocultas, y cada capa oculta tiene 2, 3 y 4 neuronas, respectivamente. Usamos una función de activación sigmoide y relu, en la primera y segunda capa oculta, respectivamente."
      ],
      "metadata": {
        "id": "p-rt44SfAi0q"
      }
    },
    {
      "cell_type": "code",
      "source": [
        "model = keras.Sequential(\n",
        "    [\n",
        "        layers.Dense(2, activation='sigmoid', name='CapaOculta1'),\n",
        "        layers.Dense(3, activation='relu', name='CapaOculta2'),\n",
        "        layers.Dense(4, name='Salida'),\n",
        "    ], name = 'Mi Primera RN'\n",
        ")"
      ],
      "metadata": {
        "id": "vU1s7Rd76wGH"
      },
      "execution_count": null,
      "outputs": []
    },
    {
      "cell_type": "markdown",
      "source": [
        "Probamos entradas llamando a tensorflow con un vector de 1 x 2"
      ],
      "metadata": {
        "id": "y5Zu-8FB9NEN"
      }
    },
    {
      "cell_type": "code",
      "source": [
        "x = tf.ones((1,2))\n",
        "print(x)"
      ],
      "metadata": {
        "id": "c0ZMevkJ9MJw"
      },
      "execution_count": null,
      "outputs": []
    },
    {
      "cell_type": "markdown",
      "source": [
        "Guardamos todo en variable \"y\""
      ],
      "metadata": {
        "id": "5jYkMoEk8BnW"
      }
    },
    {
      "cell_type": "code",
      "source": [
        "y = model(x)\n",
        "print(y)"
      ],
      "metadata": {
        "id": "JES_QOE39ju9"
      },
      "execution_count": null,
      "outputs": []
    },
    {
      "cell_type": "markdown",
      "source": [
        "###Método Funcional"
      ],
      "metadata": {
        "id": "6pIlChYv_DCU"
      }
    },
    {
      "cell_type": "markdown",
      "source": [
        "Creamos capas (no están conectadas, solo creadas, y son aleatorios)"
      ],
      "metadata": {
        "id": "YAKM1iwb_d_5"
      }
    },
    {
      "cell_type": "code",
      "source": [
        "layer1 = layers.Dense(2, activation='sigmoid', name='CapaOculta1')\n",
        "layer2 = layers.Dense(3, activation='relu', name='CapaOculta2')\n",
        "layer3 = layers.Dense(4, name='Salida')"
      ],
      "metadata": {
        "id": "KYzPZVGL_KEP"
      },
      "execution_count": null,
      "outputs": []
    },
    {
      "cell_type": "markdown",
      "source": [
        "Creamos el vector x (1,2) y mostramos"
      ],
      "metadata": {
        "id": "fbGPhJZq_apT"
      }
    },
    {
      "cell_type": "code",
      "source": [
        "y = layer1(x)\n",
        "y = layer2(y)\n",
        "y = layer3(y)\n",
        "\n",
        "print(y)"
      ],
      "metadata": {
        "id": "_1kNFgRr_qjv"
      },
      "execution_count": null,
      "outputs": []
    },
    {
      "cell_type": "code",
      "source": [
        "y = layer3(layer2(layer1(x)))\n",
        "\n",
        "print(y)"
      ],
      "metadata": {
        "id": "cPu4WUNoALpO"
      },
      "execution_count": null,
      "outputs": []
    },
    {
      "cell_type": "markdown",
      "source": [
        "###Método Secuencial 2.0"
      ],
      "metadata": {
        "id": "zDt31BY1Bs5I"
      }
    },
    {
      "cell_type": "code",
      "source": [
        "model = keras.Sequential()\n",
        "model.add(layers.Dense(2, activation='sigmoid', name='CapaOculta1'))\n",
        "model.add(layers.Dense(3, activation='relu', name='CapaOculta2'))\n",
        "model.add(layers.Dense(4, name='Salida'))"
      ],
      "metadata": {
        "id": "A4TWMFEKB2ga"
      },
      "execution_count": null,
      "outputs": []
    },
    {
      "cell_type": "markdown",
      "source": [
        "#Cómo acceder a cada capa (a cada caja negra)"
      ],
      "metadata": {
        "id": "nsIVg4XOCn_j"
      }
    },
    {
      "cell_type": "code",
      "source": [
        "model = keras.Sequential(\n",
        "    [\n",
        "        layers.Dense(2, activation='sigmoid', name='CapaOculta1'),\n",
        "        layers.Dense(3, activation='relu', name='CapaOculta2'),\n",
        "        layers.Dense(4, name='Salida'),\n",
        "    ], name = 'Mi Primera RN'\n",
        ")"
      ],
      "metadata": {
        "id": "4nniG1eTCqW2"
      },
      "execution_count": null,
      "outputs": []
    },
    {
      "cell_type": "code",
      "source": [
        "model.layers"
      ],
      "metadata": {
        "id": "-NE_ub38CyLs"
      },
      "execution_count": null,
      "outputs": []
    },
    {
      "cell_type": "code",
      "source": [
        "model.layers[0]"
      ],
      "metadata": {
        "id": "zdhieMAkDlcy"
      },
      "execution_count": null,
      "outputs": []
    },
    {
      "cell_type": "markdown",
      "source": [
        "#Sobre los pesos aleatorios: cuáles son al inicio"
      ],
      "metadata": {
        "id": "Jqsfg9WdE6GK"
      }
    },
    {
      "cell_type": "code",
      "source": [
        "capa = layers.Dense(1)"
      ],
      "metadata": {
        "id": "l-GTZaOwE3PA"
      },
      "execution_count": null,
      "outputs": []
    },
    {
      "cell_type": "code",
      "source": [
        "capa.weights"
      ],
      "metadata": {
        "id": "1pFmiHn-FTTX"
      },
      "execution_count": null,
      "outputs": []
    },
    {
      "cell_type": "markdown",
      "source": [
        "Le damos datos de entrada (vector de 1 x 3)"
      ],
      "metadata": {
        "id": "TpRNcIcEGBb4"
      }
    },
    {
      "cell_type": "code",
      "source": [
        "x = tf.ones((1,3))\n",
        "y = print (x)"
      ],
      "metadata": {
        "id": "Z19wsNm4FYOy"
      },
      "execution_count": null,
      "outputs": []
    },
    {
      "cell_type": "code",
      "source": [
        "y = capa(x)\n",
        "print (y)"
      ],
      "metadata": {
        "id": "g9YOoWpAFgXA"
      },
      "execution_count": null,
      "outputs": []
    },
    {
      "cell_type": "code",
      "source": [
        "capa.weights"
      ],
      "metadata": {
        "id": "29tJOuw3Fqfn"
      },
      "execution_count": null,
      "outputs": []
    },
    {
      "cell_type": "markdown",
      "source": [
        "# Resumen de un modelo de Red Neuronal"
      ],
      "metadata": {
        "id": "gURvRRh3GLSg"
      }
    },
    {
      "cell_type": "code",
      "source": [
        "model = keras.Sequential(\n",
        "    [\n",
        "        layers.Dense(2, activation='sigmoid', name='CapaOculta1'),\n",
        "        layers.Dense(3, activation='relu', name='CapaOculta2'),\n",
        "        layers.Dense(4, name='Salida'),\n",
        "    ], name = 'Mi Primera RN'\n",
        ")"
      ],
      "metadata": {
        "id": "QD7FPVMNGVmD"
      },
      "execution_count": null,
      "outputs": []
    },
    {
      "cell_type": "code",
      "source": [
        "x= tf.ones((1,2))\n",
        "y = model(x)\n",
        "print(y)"
      ],
      "metadata": {
        "id": "sKA7mUACGh6Y"
      },
      "execution_count": null,
      "outputs": []
    },
    {
      "cell_type": "code",
      "source": [
        "model.summary()"
      ],
      "metadata": {
        "id": "C3SSaHH9GhvA"
      },
      "execution_count": null,
      "outputs": []
    },
    {
      "cell_type": "code",
      "source": [
        "model.layers[0]"
      ],
      "metadata": {
        "id": "ozE630UnJLZO"
      },
      "execution_count": null,
      "outputs": []
    },
    {
      "cell_type": "code",
      "source": [
        "model.layers[0].weights"
      ],
      "metadata": {
        "id": "8d8UvbXhJW_W"
      },
      "execution_count": null,
      "outputs": []
    },
    {
      "cell_type": "markdown",
      "source": [
        "#Caso: Definir entrada en la entrada de la red neuronal..."
      ],
      "metadata": {
        "id": "j3whqsR9KYQv"
      }
    },
    {
      "cell_type": "code",
      "source": [
        "model = keras.Sequential(\n",
        "    [\n",
        "        layers.Dense(2, activation='sigmoid', input_shape=(100,), name='CapaOculta1'),\n",
        "        layers.Dense(3, activation='relu', name='CapaOculta2'),\n",
        "        layers.Dense(4, name='Salida'),\n",
        "    ], name = 'Mi Primera RN'\n",
        ")"
      ],
      "metadata": {
        "id": "oAkdyfhXKVpk"
      },
      "execution_count": null,
      "outputs": []
    },
    {
      "cell_type": "code",
      "source": [
        "model.summary()"
      ],
      "metadata": {
        "id": "F-uKMUWQKbER"
      },
      "execution_count": null,
      "outputs": []
    }
  ]
}