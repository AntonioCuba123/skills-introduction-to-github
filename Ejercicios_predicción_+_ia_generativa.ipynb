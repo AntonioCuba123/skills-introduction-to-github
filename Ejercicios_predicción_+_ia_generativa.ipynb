{
  "nbformat": 4,
  "nbformat_minor": 0,
  "metadata": {
    "colab": {
      "private_outputs": true,
      "provenance": [],
      "authorship_tag": "ABX9TyNWaeSD9wVnj7O5Bd6H14nu",
      "include_colab_link": true
    },
    "kernelspec": {
      "name": "python3",
      "display_name": "Python 3"
    },
    "language_info": {
      "name": "python"
    }
  },
  "cells": [
    {
      "cell_type": "markdown",
      "metadata": {
        "id": "view-in-github",
        "colab_type": "text"
      },
      "source": [
        "<a href=\"https://colab.research.google.com/github/AntonioCuba123/skills-introduction-to-github/blob/main/Ejercicios_predicci%C3%B3n_%2B_ia_generativa.ipynb\" target=\"_parent\"><img src=\"https://colab.research.google.com/assets/colab-badge.svg\" alt=\"Open In Colab\"/></a>"
      ]
    },
    {
      "cell_type": "code",
      "source": [
        "# --- CONFIGURACIÓN INICIAL ---\n",
        "import pandas as pd\n",
        "import numpy as np\n",
        "import matplotlib.pyplot as plt\n",
        "import seaborn as sns\n",
        "\n",
        "# Simulamos datos para un restaurante pequeño\n",
        "np.random.seed(42)\n",
        "n_clientes = 200\n",
        "\n",
        "df = pd.DataFrame({\n",
        "    'cliente_id': range(1, n_clientes + 1),\n",
        "    'visitas_mensuales': np.random.poisson(lam=4, size=n_clientes),\n",
        "    'dias_desde_ultima_visita': np.random.randint(0, 90, size=n_clientes),\n",
        "    'ticket_promedio': np.round(np.random.normal(35, 10, size=n_clientes), 2),\n",
        "    'preferencia_menu': np.random.choice(['ejecutivo', 'a la carta', 'delivery', 'combo promocional'], size=n_clientes),\n",
        "    'probabilidad_no_retorno': np.round(np.random.uniform(0, 1, size=n_clientes), 2),\n",
        "    'cliente_trabajador_oficina': np.random.choice([1, 0], size=n_clientes, p=[0.7, 0.3])\n",
        "})\n",
        "\n",
        "df['riesgo_abandono'] = (df['dias_desde_ultima_visita'] > 60).astype(int)\n",
        "\n",
        "# --- VISUALIZACIÓN INICIAL ---\n",
        "plt.figure(figsize=(10, 6))\n",
        "sns.histplot(df['dias_desde_ultima_visita'], bins=30, kde=True)\n",
        "plt.title('Distribución de Días desde la Última Visita')\n",
        "plt.xlabel('Días')\n",
        "plt.ylabel('Cantidad de Clientes')\n",
        "plt.show()\n",
        "\n",
        "# --- MATRIZ DE CORRELACIÓN ---\n",
        "plt.figure(figsize=(8, 5))\n",
        "sns.heatmap(df.select_dtypes(include='number').corr(), annot=True, cmap='coolwarm')\n",
        "plt.title('Matriz de Correlación')\n",
        "plt.show()\n",
        "\n",
        "# --- EJERCICIO 1: Reformulación del problema ---\n",
        "print(\"\\n🔁 Ejercicio 1: Reformula el siguiente problema para GPT\")\n",
        "print(\"Problema original: Las ventas están bajando, ¿qué pasa con mis clientes habituales?\")\n",
        "print(\"Prompt sugerido:\")\n",
        "print(\"Reformula este problema como una pregunta de predicción para resolver con IA, en un pequeño restaurante.\")\n",
        "\n",
        "# --- EJERCICIO 2: Feature Engineering ---\n",
        "df['intervalo_promedio_visitas'] = 30 / df['visitas_mensuales'].replace(0, 1)\n",
        "\n",
        "print(\"\\n🧰 Ejercicio 2: Código generado para calcular intervalo entre visitas\")\n",
        "print(df[['cliente_id', 'visitas_mensuales', 'intervalo_promedio_visitas']].head())\n",
        "\n",
        "# --- EJERCICIO 3: Simulación de Escenario ---\n",
        "print(\"\\n🧭 Ejercicio 3: Prompt para GPT\")\n",
        "print(\"Simula el impacto de subir 10% el precio del menú ejecutivo sobre la fidelidad de clientes oficina. Genera storytelling para presentación.\")\n",
        "\n",
        "# --- EJERCICIO 4: Acción basada en predicción ---\n",
        "print(\"\\n🧠 Ejercicio 4: Prompt para GPT\")\n",
        "print(\"Actúa como asesor de marketing. Sugiere 3 acciones si un cliente muestra 85% de probabilidad de no volver.\")\n",
        "\n",
        "# --- EJERCICIO 5: Tutor IA explicativo ---\n",
        "print(\"\\n🎓 Ejercicio 5: Prompt para GPT\")\n",
        "print(\"Explica cómo funciona un modelo de predicción de abandono a un equipo de cocina o atención usando analogías con cocina.\")\n",
        "\n",
        "# --- EXPORTABLE ---\n",
        "print(\"\\n📤 Puedes exportar este notebook como PDF desde Archivo > Imprimir o Archivo > Descargar como PDF.\")\n"
      ],
      "metadata": {
        "id": "0U-OjJxnMz_L"
      },
      "execution_count": null,
      "outputs": []
    }
  ]
}